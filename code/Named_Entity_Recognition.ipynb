{
  "nbformat": 4,
  "nbformat_minor": 0,
  "metadata": {
    "colab": {
      "name": "Named Entity Recognition.ipynb",
      "provenance": []
    },
    "kernelspec": {
      "name": "python3",
      "display_name": "Python 3"
    },
    "language_info": {
      "name": "python"
    }
  },
  "cells": [
    {
      "cell_type": "code",
      "metadata": {
        "colab": {
          "base_uri": "https://localhost:8080/",
          "height": 1000
        },
        "id": "xfD21VOrgcOG",
        "outputId": "da5b7f90-b671-4521-8419-7c629dd6ed1e"
      },
      "source": [
        "!pip3 install spacy==2.3.5\n",
        "!pip3 install nltk\n",
        "!pip3 install https://github.com/explosion/spacy-models/releases/download/en_core_web_sm-2.3.1/en_core_web_sm-2.3.1.tar.gz\n",
        "!pip3 install pyresparser\n",
        "import spacy\n",
        "import spacy.displacy as displacy\n",
        "import nltk"
      ],
      "execution_count": null,
      "outputs": [
        {
          "output_type": "stream",
          "text": [
            "Collecting spacy==2.3.5\n",
            "\u001b[?25l  Downloading https://files.pythonhosted.org/packages/95/89/1539c4024c339650c222b0b2ca2b3e3f13523b7a02671f8001b7b1cee6f2/spacy-2.3.5-cp37-cp37m-manylinux2014_x86_64.whl (10.4MB)\n",
            "\u001b[K     |████████████████████████████████| 10.4MB 5.1MB/s \n",
            "\u001b[?25hRequirement already satisfied: numpy>=1.15.0 in /usr/local/lib/python3.7/dist-packages (from spacy==2.3.5) (1.19.5)\n",
            "Requirement already satisfied: setuptools in /usr/local/lib/python3.7/dist-packages (from spacy==2.3.5) (56.0.0)\n",
            "Requirement already satisfied: srsly<1.1.0,>=1.0.2 in /usr/local/lib/python3.7/dist-packages (from spacy==2.3.5) (1.0.5)\n",
            "Requirement already satisfied: murmurhash<1.1.0,>=0.28.0 in /usr/local/lib/python3.7/dist-packages (from spacy==2.3.5) (1.0.5)\n",
            "Requirement already satisfied: tqdm<5.0.0,>=4.38.0 in /usr/local/lib/python3.7/dist-packages (from spacy==2.3.5) (4.41.1)\n",
            "Collecting thinc<7.5.0,>=7.4.1\n",
            "\u001b[?25l  Downloading https://files.pythonhosted.org/packages/9a/92/71ab278f865f7565c37ed6917d0f23342e4f9a0633013113bd435cf0a691/thinc-7.4.5-cp37-cp37m-manylinux2014_x86_64.whl (1.0MB)\n",
            "\u001b[K     |████████████████████████████████| 1.1MB 42.4MB/s \n",
            "\u001b[?25hRequirement already satisfied: plac<1.2.0,>=0.9.6 in /usr/local/lib/python3.7/dist-packages (from spacy==2.3.5) (1.1.3)\n",
            "Requirement already satisfied: blis<0.8.0,>=0.4.0 in /usr/local/lib/python3.7/dist-packages (from spacy==2.3.5) (0.4.1)\n",
            "Requirement already satisfied: cymem<2.1.0,>=2.0.2 in /usr/local/lib/python3.7/dist-packages (from spacy==2.3.5) (2.0.5)\n",
            "Requirement already satisfied: wasabi<1.1.0,>=0.4.0 in /usr/local/lib/python3.7/dist-packages (from spacy==2.3.5) (0.8.2)\n",
            "Requirement already satisfied: catalogue<1.1.0,>=0.0.7 in /usr/local/lib/python3.7/dist-packages (from spacy==2.3.5) (1.0.0)\n",
            "Requirement already satisfied: preshed<3.1.0,>=3.0.2 in /usr/local/lib/python3.7/dist-packages (from spacy==2.3.5) (3.0.5)\n",
            "Requirement already satisfied: requests<3.0.0,>=2.13.0 in /usr/local/lib/python3.7/dist-packages (from spacy==2.3.5) (2.23.0)\n",
            "Requirement already satisfied: importlib-metadata>=0.20; python_version < \"3.8\" in /usr/local/lib/python3.7/dist-packages (from catalogue<1.1.0,>=0.0.7->spacy==2.3.5) (3.10.1)\n",
            "Requirement already satisfied: certifi>=2017.4.17 in /usr/local/lib/python3.7/dist-packages (from requests<3.0.0,>=2.13.0->spacy==2.3.5) (2020.12.5)\n",
            "Requirement already satisfied: idna<3,>=2.5 in /usr/local/lib/python3.7/dist-packages (from requests<3.0.0,>=2.13.0->spacy==2.3.5) (2.10)\n",
            "Requirement already satisfied: urllib3!=1.25.0,!=1.25.1,<1.26,>=1.21.1 in /usr/local/lib/python3.7/dist-packages (from requests<3.0.0,>=2.13.0->spacy==2.3.5) (1.24.3)\n",
            "Requirement already satisfied: chardet<4,>=3.0.2 in /usr/local/lib/python3.7/dist-packages (from requests<3.0.0,>=2.13.0->spacy==2.3.5) (3.0.4)\n",
            "Requirement already satisfied: zipp>=0.5 in /usr/local/lib/python3.7/dist-packages (from importlib-metadata>=0.20; python_version < \"3.8\"->catalogue<1.1.0,>=0.0.7->spacy==2.3.5) (3.4.1)\n",
            "Requirement already satisfied: typing-extensions>=3.6.4; python_version < \"3.8\" in /usr/local/lib/python3.7/dist-packages (from importlib-metadata>=0.20; python_version < \"3.8\"->catalogue<1.1.0,>=0.0.7->spacy==2.3.5) (3.7.4.3)\n",
            "Installing collected packages: thinc, spacy\n",
            "  Found existing installation: thinc 7.4.0\n",
            "    Uninstalling thinc-7.4.0:\n",
            "      Successfully uninstalled thinc-7.4.0\n",
            "  Found existing installation: spacy 2.2.4\n",
            "    Uninstalling spacy-2.2.4:\n",
            "      Successfully uninstalled spacy-2.2.4\n",
            "Successfully installed spacy-2.3.5 thinc-7.4.5\n",
            "Requirement already satisfied: nltk in /usr/local/lib/python3.7/dist-packages (3.2.5)\n",
            "Requirement already satisfied: six in /usr/local/lib/python3.7/dist-packages (from nltk) (1.15.0)\n",
            "Collecting https://github.com/explosion/spacy-models/releases/download/en_core_web_sm-2.3.1/en_core_web_sm-2.3.1.tar.gz\n",
            "\u001b[?25l  Downloading https://github.com/explosion/spacy-models/releases/download/en_core_web_sm-2.3.1/en_core_web_sm-2.3.1.tar.gz (12.0MB)\n",
            "\u001b[K     |████████████████████████████████| 12.1MB 5.3MB/s \n",
            "\u001b[?25hRequirement already satisfied: spacy<2.4.0,>=2.3.0 in /usr/local/lib/python3.7/dist-packages (from en-core-web-sm==2.3.1) (2.3.5)\n",
            "Requirement already satisfied: murmurhash<1.1.0,>=0.28.0 in /usr/local/lib/python3.7/dist-packages (from spacy<2.4.0,>=2.3.0->en-core-web-sm==2.3.1) (1.0.5)\n",
            "Requirement already satisfied: numpy>=1.15.0 in /usr/local/lib/python3.7/dist-packages (from spacy<2.4.0,>=2.3.0->en-core-web-sm==2.3.1) (1.19.5)\n",
            "Requirement already satisfied: plac<1.2.0,>=0.9.6 in /usr/local/lib/python3.7/dist-packages (from spacy<2.4.0,>=2.3.0->en-core-web-sm==2.3.1) (1.1.3)\n",
            "Requirement already satisfied: tqdm<5.0.0,>=4.38.0 in /usr/local/lib/python3.7/dist-packages (from spacy<2.4.0,>=2.3.0->en-core-web-sm==2.3.1) (4.41.1)\n",
            "Requirement already satisfied: requests<3.0.0,>=2.13.0 in /usr/local/lib/python3.7/dist-packages (from spacy<2.4.0,>=2.3.0->en-core-web-sm==2.3.1) (2.23.0)\n",
            "Requirement already satisfied: setuptools in /usr/local/lib/python3.7/dist-packages (from spacy<2.4.0,>=2.3.0->en-core-web-sm==2.3.1) (56.0.0)\n",
            "Requirement already satisfied: catalogue<1.1.0,>=0.0.7 in /usr/local/lib/python3.7/dist-packages (from spacy<2.4.0,>=2.3.0->en-core-web-sm==2.3.1) (1.0.0)\n",
            "Requirement already satisfied: preshed<3.1.0,>=3.0.2 in /usr/local/lib/python3.7/dist-packages (from spacy<2.4.0,>=2.3.0->en-core-web-sm==2.3.1) (3.0.5)\n",
            "Requirement already satisfied: blis<0.8.0,>=0.4.0 in /usr/local/lib/python3.7/dist-packages (from spacy<2.4.0,>=2.3.0->en-core-web-sm==2.3.1) (0.4.1)\n",
            "Requirement already satisfied: cymem<2.1.0,>=2.0.2 in /usr/local/lib/python3.7/dist-packages (from spacy<2.4.0,>=2.3.0->en-core-web-sm==2.3.1) (2.0.5)\n",
            "Requirement already satisfied: wasabi<1.1.0,>=0.4.0 in /usr/local/lib/python3.7/dist-packages (from spacy<2.4.0,>=2.3.0->en-core-web-sm==2.3.1) (0.8.2)\n",
            "Requirement already satisfied: thinc<7.5.0,>=7.4.1 in /usr/local/lib/python3.7/dist-packages (from spacy<2.4.0,>=2.3.0->en-core-web-sm==2.3.1) (7.4.5)\n",
            "Requirement already satisfied: srsly<1.1.0,>=1.0.2 in /usr/local/lib/python3.7/dist-packages (from spacy<2.4.0,>=2.3.0->en-core-web-sm==2.3.1) (1.0.5)\n",
            "Requirement already satisfied: idna<3,>=2.5 in /usr/local/lib/python3.7/dist-packages (from requests<3.0.0,>=2.13.0->spacy<2.4.0,>=2.3.0->en-core-web-sm==2.3.1) (2.10)\n",
            "Requirement already satisfied: urllib3!=1.25.0,!=1.25.1,<1.26,>=1.21.1 in /usr/local/lib/python3.7/dist-packages (from requests<3.0.0,>=2.13.0->spacy<2.4.0,>=2.3.0->en-core-web-sm==2.3.1) (1.24.3)\n",
            "Requirement already satisfied: certifi>=2017.4.17 in /usr/local/lib/python3.7/dist-packages (from requests<3.0.0,>=2.13.0->spacy<2.4.0,>=2.3.0->en-core-web-sm==2.3.1) (2020.12.5)\n",
            "Requirement already satisfied: chardet<4,>=3.0.2 in /usr/local/lib/python3.7/dist-packages (from requests<3.0.0,>=2.13.0->spacy<2.4.0,>=2.3.0->en-core-web-sm==2.3.1) (3.0.4)\n",
            "Requirement already satisfied: importlib-metadata>=0.20; python_version < \"3.8\" in /usr/local/lib/python3.7/dist-packages (from catalogue<1.1.0,>=0.0.7->spacy<2.4.0,>=2.3.0->en-core-web-sm==2.3.1) (3.10.1)\n",
            "Requirement already satisfied: zipp>=0.5 in /usr/local/lib/python3.7/dist-packages (from importlib-metadata>=0.20; python_version < \"3.8\"->catalogue<1.1.0,>=0.0.7->spacy<2.4.0,>=2.3.0->en-core-web-sm==2.3.1) (3.4.1)\n",
            "Requirement already satisfied: typing-extensions>=3.6.4; python_version < \"3.8\" in /usr/local/lib/python3.7/dist-packages (from importlib-metadata>=0.20; python_version < \"3.8\"->catalogue<1.1.0,>=0.0.7->spacy<2.4.0,>=2.3.0->en-core-web-sm==2.3.1) (3.7.4.3)\n",
            "Building wheels for collected packages: en-core-web-sm\n",
            "  Building wheel for en-core-web-sm (setup.py) ... \u001b[?25l\u001b[?25hdone\n",
            "  Created wheel for en-core-web-sm: filename=en_core_web_sm-2.3.1-cp37-none-any.whl size=12047109 sha256=122f6a2fc9075a0a098bfa092e9c13d8bb77e63d645ef5967f6f157efb583138\n",
            "  Stored in directory: /root/.cache/pip/wheels/2b/3f/41/f0b92863355c3ba34bb32b37d8a0c662959da0058202094f46\n",
            "Successfully built en-core-web-sm\n",
            "Installing collected packages: en-core-web-sm\n",
            "  Found existing installation: en-core-web-sm 2.2.5\n",
            "    Uninstalling en-core-web-sm-2.2.5:\n",
            "      Successfully uninstalled en-core-web-sm-2.2.5\n",
            "Successfully installed en-core-web-sm-2.3.1\n",
            "Collecting pyresparser\n",
            "\u001b[?25l  Downloading https://files.pythonhosted.org/packages/be/1c/0b84af1e9b9f5236c9a7f3e7bd306a4cb5c71eef15cc27ed343a3ceb5996/pyresparser-1.0.6-py3-none-any.whl (4.2MB)\n",
            "\u001b[K     |████████████████████████████████| 4.2MB 5.0MB/s \n",
            "\u001b[?25hCollecting docx2txt>=0.7\n",
            "  Downloading https://files.pythonhosted.org/packages/7d/7d/60ee3f2b16d9bfdfa72e8599470a2c1a5b759cb113c6fe1006be28359327/docx2txt-0.8.tar.gz\n",
            "Collecting urllib3>=1.25.3\n",
            "\u001b[?25l  Downloading https://files.pythonhosted.org/packages/09/c6/d3e3abe5b4f4f16cf0dfc9240ab7ce10c2baa0e268989a4e3ec19e90c84e/urllib3-1.26.4-py2.py3-none-any.whl (153kB)\n",
            "\u001b[K     |████████████████████████████████| 153kB 40.7MB/s \n",
            "\u001b[?25hCollecting jsonschema>=3.0.1\n",
            "\u001b[?25l  Downloading https://files.pythonhosted.org/packages/c5/8f/51e89ce52a085483359217bc72cdbf6e75ee595d5b1d4b5ade40c7e018b8/jsonschema-3.2.0-py2.py3-none-any.whl (56kB)\n",
            "\u001b[K     |████████████████████████████████| 61kB 6.7MB/s \n",
            "\u001b[?25hRequirement already satisfied: requests>=2.22.0 in /usr/local/lib/python3.7/dist-packages (from pyresparser) (2.23.0)\n",
            "Requirement already satisfied: idna>=2.8 in /usr/local/lib/python3.7/dist-packages (from pyresparser) (2.10)\n",
            "Requirement already satisfied: chardet>=3.0.4 in /usr/local/lib/python3.7/dist-packages (from pyresparser) (3.0.4)\n",
            "Requirement already satisfied: spacy>=2.1.4 in /usr/local/lib/python3.7/dist-packages (from pyresparser) (2.3.5)\n",
            "Requirement already satisfied: six>=1.12.0 in /usr/local/lib/python3.7/dist-packages (from pyresparser) (1.15.0)\n",
            "Requirement already satisfied: blis>=0.2.4 in /usr/local/lib/python3.7/dist-packages (from pyresparser) (0.4.1)\n",
            "Collecting pycryptodome>=3.8.2\n",
            "\u001b[?25l  Downloading https://files.pythonhosted.org/packages/ad/16/9627ab0493894a11c68e46000dbcc82f578c8ff06bc2980dcd016aea9bd3/pycryptodome-3.10.1-cp35-abi3-manylinux2010_x86_64.whl (1.9MB)\n",
            "\u001b[K     |████████████████████████████████| 1.9MB 34.4MB/s \n",
            "\u001b[?25hCollecting pytz>=2019.1\n",
            "\u001b[?25l  Downloading https://files.pythonhosted.org/packages/70/94/784178ca5dd892a98f113cdd923372024dc04b8d40abe77ca76b5fb90ca6/pytz-2021.1-py2.py3-none-any.whl (510kB)\n",
            "\u001b[K     |████████████████████████████████| 512kB 37.8MB/s \n",
            "\u001b[?25hRequirement already satisfied: pandas>=0.24.2 in /usr/local/lib/python3.7/dist-packages (from pyresparser) (1.1.5)\n",
            "Requirement already satisfied: sortedcontainers>=2.1.0 in /usr/local/lib/python3.7/dist-packages (from pyresparser) (2.3.0)\n",
            "Requirement already satisfied: pyrsistent>=0.15.2 in /usr/local/lib/python3.7/dist-packages (from pyresparser) (0.17.3)\n",
            "Requirement already satisfied: attrs>=19.1.0 in /usr/local/lib/python3.7/dist-packages (from pyresparser) (20.3.0)\n",
            "Requirement already satisfied: preshed>=2.0.1 in /usr/local/lib/python3.7/dist-packages (from pyresparser) (3.0.5)\n",
            "Requirement already satisfied: certifi>=2019.6.16 in /usr/local/lib/python3.7/dist-packages (from pyresparser) (2020.12.5)\n",
            "Requirement already satisfied: tqdm>=4.32.2 in /usr/local/lib/python3.7/dist-packages (from pyresparser) (4.41.1)\n",
            "Collecting nltk>=3.4.3\n",
            "\u001b[?25l  Downloading https://files.pythonhosted.org/packages/5e/37/9532ddd4b1bbb619333d5708aaad9bf1742f051a664c3c6fa6632a105fd8/nltk-3.6.2-py3-none-any.whl (1.5MB)\n",
            "\u001b[K     |████████████████████████████████| 1.5MB 47.7MB/s \n",
            "\u001b[?25hRequirement already satisfied: thinc>=7.0.4 in /usr/local/lib/python3.7/dist-packages (from pyresparser) (7.4.5)\n",
            "Requirement already satisfied: python-dateutil>=2.8.0 in /usr/local/lib/python3.7/dist-packages (from pyresparser) (2.8.1)\n",
            "Requirement already satisfied: srsly>=0.0.7 in /usr/local/lib/python3.7/dist-packages (from pyresparser) (1.0.5)\n",
            "Requirement already satisfied: wasabi>=0.2.2 in /usr/local/lib/python3.7/dist-packages (from pyresparser) (0.8.2)\n",
            "Requirement already satisfied: numpy>=1.16.4 in /usr/local/lib/python3.7/dist-packages (from pyresparser) (1.19.5)\n",
            "Requirement already satisfied: cymem>=2.0.2 in /usr/local/lib/python3.7/dist-packages (from pyresparser) (2.0.5)\n",
            "Collecting pdfminer.six>=20181108\n",
            "\u001b[?25l  Downloading https://files.pythonhosted.org/packages/93/f3/4fec7dabe8802ebec46141345bf714cd1fc7d93cb74ddde917e4b6d97d88/pdfminer.six-20201018-py3-none-any.whl (5.6MB)\n",
            "\u001b[K     |████████████████████████████████| 5.6MB 24.3MB/s \n",
            "\u001b[?25hRequirement already satisfied: importlib-metadata; python_version < \"3.8\" in /usr/local/lib/python3.7/dist-packages (from jsonschema>=3.0.1->pyresparser) (3.10.1)\n",
            "Requirement already satisfied: setuptools in /usr/local/lib/python3.7/dist-packages (from jsonschema>=3.0.1->pyresparser) (56.0.0)\n",
            "Requirement already satisfied: plac<1.2.0,>=0.9.6 in /usr/local/lib/python3.7/dist-packages (from spacy>=2.1.4->pyresparser) (1.1.3)\n",
            "Requirement already satisfied: catalogue<1.1.0,>=0.0.7 in /usr/local/lib/python3.7/dist-packages (from spacy>=2.1.4->pyresparser) (1.0.0)\n",
            "Requirement already satisfied: murmurhash<1.1.0,>=0.28.0 in /usr/local/lib/python3.7/dist-packages (from spacy>=2.1.4->pyresparser) (1.0.5)\n",
            "Requirement already satisfied: regex in /usr/local/lib/python3.7/dist-packages (from nltk>=3.4.3->pyresparser) (2019.12.20)\n",
            "Requirement already satisfied: click in /usr/local/lib/python3.7/dist-packages (from nltk>=3.4.3->pyresparser) (7.1.2)\n",
            "Requirement already satisfied: joblib in /usr/local/lib/python3.7/dist-packages (from nltk>=3.4.3->pyresparser) (1.0.1)\n",
            "Collecting cryptography\n",
            "\u001b[?25l  Downloading https://files.pythonhosted.org/packages/b2/26/7af637e6a7e87258b963f1731c5982fb31cd507f0d90d91836e446955d02/cryptography-3.4.7-cp36-abi3-manylinux2014_x86_64.whl (3.2MB)\n",
            "\u001b[K     |████████████████████████████████| 3.2MB 44.1MB/s \n",
            "\u001b[?25hRequirement already satisfied: typing-extensions>=3.6.4; python_version < \"3.8\" in /usr/local/lib/python3.7/dist-packages (from importlib-metadata; python_version < \"3.8\"->jsonschema>=3.0.1->pyresparser) (3.7.4.3)\n",
            "Requirement already satisfied: zipp>=0.5 in /usr/local/lib/python3.7/dist-packages (from importlib-metadata; python_version < \"3.8\"->jsonschema>=3.0.1->pyresparser) (3.4.1)\n",
            "Requirement already satisfied: cffi>=1.12 in /usr/local/lib/python3.7/dist-packages (from cryptography->pdfminer.six>=20181108->pyresparser) (1.14.5)\n",
            "Requirement already satisfied: pycparser in /usr/local/lib/python3.7/dist-packages (from cffi>=1.12->cryptography->pdfminer.six>=20181108->pyresparser) (2.20)\n",
            "Building wheels for collected packages: docx2txt\n",
            "  Building wheel for docx2txt (setup.py) ... \u001b[?25l\u001b[?25hdone\n",
            "  Created wheel for docx2txt: filename=docx2txt-0.8-cp37-none-any.whl size=3963 sha256=aefb843dd148cd059f42c1270384bfd51a07bc865e6450dfe6cc6ae573bb4f3c\n",
            "  Stored in directory: /root/.cache/pip/wheels/b2/1f/26/a051209bbb77fc6bcfae2bb7e01fa0ff941b82292ab084d596\n",
            "Successfully built docx2txt\n",
            "\u001b[31mERROR: requests 2.23.0 has requirement urllib3!=1.25.0,!=1.25.1,<1.26,>=1.21.1, but you'll have urllib3 1.26.4 which is incompatible.\u001b[0m\n",
            "\u001b[31mERROR: nbclient 0.5.3 has requirement jupyter-client>=6.1.5, but you'll have jupyter-client 5.3.5 which is incompatible.\u001b[0m\n",
            "\u001b[31mERROR: datascience 0.10.6 has requirement folium==0.2.1, but you'll have folium 0.8.3 which is incompatible.\u001b[0m\n",
            "Installing collected packages: docx2txt, urllib3, jsonschema, pycryptodome, pytz, nltk, cryptography, pdfminer.six, pyresparser\n",
            "  Found existing installation: urllib3 1.24.3\n",
            "    Uninstalling urllib3-1.24.3:\n",
            "      Successfully uninstalled urllib3-1.24.3\n",
            "  Found existing installation: jsonschema 2.6.0\n",
            "    Uninstalling jsonschema-2.6.0:\n",
            "      Successfully uninstalled jsonschema-2.6.0\n",
            "  Found existing installation: pytz 2018.9\n",
            "    Uninstalling pytz-2018.9:\n",
            "      Successfully uninstalled pytz-2018.9\n",
            "  Found existing installation: nltk 3.2.5\n",
            "    Uninstalling nltk-3.2.5:\n",
            "      Successfully uninstalled nltk-3.2.5\n",
            "Successfully installed cryptography-3.4.7 docx2txt-0.8 jsonschema-3.2.0 nltk-3.6.2 pdfminer.six-20201018 pycryptodome-3.10.1 pyresparser-1.0.6 pytz-2021.1 urllib3-1.26.4\n"
          ],
          "name": "stdout"
        },
        {
          "output_type": "display_data",
          "data": {
            "application/vnd.colab-display-data+json": {
              "pip_warning": {
                "packages": [
                  "pytz"
                ]
              }
            }
          },
          "metadata": {
            "tags": []
          }
        },
        {
          "output_type": "stream",
          "text": [
            "/usr/local/lib/python3.7/dist-packages/requests/__init__.py:91: RequestsDependencyWarning: urllib3 (1.26.4) or chardet (3.0.4) doesn't match a supported version!\n",
            "  RequestsDependencyWarning)\n"
          ],
          "name": "stderr"
        }
      ]
    },
    {
      "cell_type": "code",
      "metadata": {
        "colab": {
          "base_uri": "https://localhost:8080/"
        },
        "id": "jbDPsNek_u_E",
        "outputId": "90fc6f0c-9f7b-428d-c2d9-c2d292325bf6"
      },
      "source": [
        "import gzip\n",
        "import tarfile\n",
        "import glob\n",
        "import os\n",
        "import sklearn\n",
        "import numpy\n",
        "import pandas as pd\n",
        "from sklearn.utils import resample\n",
        "import keras\n",
        "!pip install keras_metrics\n",
        "import keras_metrics\n",
        "from keras.preprocessing.text import Tokenizer\n",
        "from keras.layers import LSTM, Dense, Embedding\n",
        "from keras.models import Sequential\n",
        "from keras.preprocessing.text import Tokenizer\n",
        "from keras.preprocessing.sequence import pad_sequences\n",
        "from sklearn.metrics import f1_score, classification_report"
      ],
      "execution_count": null,
      "outputs": [
        {
          "output_type": "stream",
          "text": [
            "Requirement already satisfied: keras_metrics in /usr/local/lib/python3.7/dist-packages (1.1.0)\n",
            "Requirement already satisfied: Keras>=2.1.5 in /usr/local/lib/python3.7/dist-packages (from keras_metrics) (2.4.3)\n",
            "Requirement already satisfied: scipy>=0.14 in /usr/local/lib/python3.7/dist-packages (from Keras>=2.1.5->keras_metrics) (1.4.1)\n",
            "Requirement already satisfied: h5py in /usr/local/lib/python3.7/dist-packages (from Keras>=2.1.5->keras_metrics) (2.10.0)\n",
            "Requirement already satisfied: numpy>=1.9.1 in /usr/local/lib/python3.7/dist-packages (from Keras>=2.1.5->keras_metrics) (1.19.5)\n",
            "Requirement already satisfied: pyyaml in /usr/local/lib/python3.7/dist-packages (from Keras>=2.1.5->keras_metrics) (3.13)\n",
            "Requirement already satisfied: six in /usr/local/lib/python3.7/dist-packages (from h5py->Keras>=2.1.5->keras_metrics) (1.15.0)\n"
          ],
          "name": "stdout"
        }
      ]
    },
    {
      "cell_type": "code",
      "metadata": {
        "colab": {
          "base_uri": "https://localhost:8080/"
        },
        "id": "nXoC_FbiBJJl",
        "outputId": "ae75a5d1-fcd3-4055-b7a6-2b3fc60a16a3"
      },
      "source": [
        "from google.colab import drive\n",
        "drive.mount('/content/drive')"
      ],
      "execution_count": null,
      "outputs": [
        {
          "output_type": "stream",
          "text": [
            "Mounted at /content/drive\n"
          ],
          "name": "stdout"
        }
      ]
    },
    {
      "cell_type": "code",
      "metadata": {
        "id": "s8WM5Pl9rwWI"
      },
      "source": [
        "train_data = pd.read_csv('/content/drive/MyDrive/CIS 530 Project/Milestone 3/train_data.csv').dropna().drop_duplicates()\n",
        "val_data = pd.read_csv('/content/drive/MyDrive/CIS 530 Project/Milestone 3/val_data.csv').dropna().drop_duplicates()\n",
        "test_data = pd.read_csv('/content/drive/MyDrive/CIS 530 Project/Milestone 3/test_data.csv').dropna().drop_duplicates()\n",
        "datasets = [train_data, val_data, test_data]"
      ],
      "execution_count": null,
      "outputs": []
    },
    {
      "cell_type": "code",
      "metadata": {
        "id": "j6szh6MG-GfM"
      },
      "source": [
        "# Downsample non-controversial to balance classes\n",
        "train_non_data = train_data[train_data['contro'] == 0]\n",
        "train_con_data = train_data[train_data['contro'] == 1]\n",
        "train_non_balanced = resample(train_non_data, replace=False, n_samples = len(train_con_data))\n",
        "combined = pd.concat([train_con_data, train_non_balanced])\n",
        "train_data = combined.sample(frac=1).reset_index(drop=True)\n",
        "train_data = train_data.drop(columns=['Unnamed: 0'])"
      ],
      "execution_count": null,
      "outputs": []
    },
    {
      "cell_type": "code",
      "metadata": {
        "colab": {
          "base_uri": "https://localhost:8080/"
        },
        "id": "ALScaoLI-KYE",
        "outputId": "222d9edb-e8a3-4e28-da1a-b001a630606e"
      },
      "source": [
        "import nltk\n",
        "nltk.download('punkt')\n",
        "nltk.download('stopwords')\n",
        "nltk.download('wordnet')\n",
        "from nltk.tokenize import RegexpTokenizer\n",
        "from nltk.corpus import stopwords\n",
        "from nltk.stem import WordNetLemmatizer\n",
        "import re"
      ],
      "execution_count": null,
      "outputs": [
        {
          "output_type": "stream",
          "text": [
            "[nltk_data] Downloading package punkt to /root/nltk_data...\n",
            "[nltk_data]   Package punkt is already up-to-date!\n",
            "[nltk_data] Downloading package stopwords to /root/nltk_data...\n",
            "[nltk_data]   Package stopwords is already up-to-date!\n",
            "[nltk_data] Downloading package wordnet to /root/nltk_data...\n",
            "[nltk_data]   Package wordnet is already up-to-date!\n"
          ],
          "name": "stderr"
        }
      ]
    },
    {
      "cell_type": "code",
      "metadata": {
        "id": "zHCrpR-J-MrS"
      },
      "source": [
        "lemmatizer = WordNetLemmatizer()\n",
        "def lemmatize_word(word):\n",
        "  return lemmatizer.lemmatize(word)\n",
        "\n",
        "words_to_ignore = set(stopwords.words('english'))\n",
        "tokenizer = RegexpTokenizer(r'\\w+')\n",
        "def clean_str(s):\n",
        "  tokenized_words = tokenizer.tokenize(s)\n",
        "  tokenized_words = [word for word in tokenized_words if word not in words_to_ignore]\n",
        "  tokenized_words = [lemmatize_word(word) for word in tokenized_words]\n",
        "  return ' '.join(tokenized_words)"
      ],
      "execution_count": null,
      "outputs": []
    },
    {
      "cell_type": "code",
      "metadata": {
        "id": "YK2hVhyi-NVZ"
      },
      "source": [
        "for dataset in datasets:\n",
        "  dataset['comment_text'] = dataset['comment_text'].apply(lambda text: clean_str(text))"
      ],
      "execution_count": null,
      "outputs": []
    },
    {
      "cell_type": "code",
      "metadata": {
        "id": "odOj1ohX_htg"
      },
      "source": [
        "# samples of non-controversial and controversial text\n",
        "non_controversial_text = train_data[train_data['contro'] == 0].head(10)['comment_text'].tolist()\n",
        "controversial_text = train_data[train_data['contro'] == 1].head(10)['comment_text'].tolist()"
      ],
      "execution_count": null,
      "outputs": []
    },
    {
      "cell_type": "code",
      "metadata": {
        "colab": {
          "base_uri": "https://localhost:8080/"
        },
        "id": "4DUyDLdcD2ZK",
        "outputId": "38827265-a021-4227-a34c-515577d9c459"
      },
      "source": [
        "for text in enumerate(non_controversial_text):\n",
        "  print(text)\n",
        "\n",
        "non_controversial_ner_list = []\n",
        "for text in non_controversial_text:\n",
        "  word_tag_list = []\n",
        "  for e in nlp(text).ents:\n",
        "    word_tag_list.append((e.text, e.label_))\n",
        "  non_controversial_ner_list.append(word_tag_list)\n",
        "\n",
        "non_controversial_ner_list\n",
        "\n"
      ],
      "execution_count": null,
      "outputs": [
        {
          "output_type": "stream",
          "text": [
            "(0, '\"\\n\\nCharles, I\\'m afraid that doesn\\'t answer my point, at all. It is absolutely a question of \"\"how to improve the associated article\"\" to query whether somebody describing the subject as \"\"a little tyke\"\" should be allowed to continue to comment. It\\'s not about criticising that person on a personal level but whether they are damaging the article. That\\'s my whole point. I totally understand your motives, which are totally decent, but I think you\\'ve got the wrong end of the stick here.\"')\n",
            "(1, 'Please remember that i am a human being, before')\n",
            "(2, 'Arginase_1#Role in sexual response  If all aspects of NO biology were covered in this article, it would become unreadable. The specific applications of an enzyme should be discussed in the appropriate article Erection, if essential for the mechanism-of-action. Indeed, the discussion of NO there is like a footnote.')\n",
            "(3, '\"\\n\\nI was merely pointing out that after numerous arbitrators had warned you to not accuse editors of pedophilia onwiki, you re-opened a discussion that had been closed because of allegations of pedophilia (fine, of promoting child pornography, but it falls under the same category). If you feel that that was throwing out the baby with the bathwater, fair enough, but I think it was irresponsible to re-open it without first dealing with the allegations. I don\\'t see how it\\'s abbetting someone making personal attacks to leave a prominent red box on the page with a note about how the remarks were completely inappropriate. —\\xa0(Je vous invite à me parler) \"')\n",
            "(4, \"Keep this? \\n\\nI see we're arguing about this page . Bear in mind that this page was created during one of the Vast Edit Wars and there may be a good argument for deleting the thing\")\n",
            "(5, '\"\\n\\nWikiProject Red Hot Chili Peppers January 2008 Newsletter\\n The Red Hot Chili Peppers WikiProject Newsletter Volume 2, no. 1 — January 2008 \"\"I remember I was taking a piss at a party once in this multi-urinal stall bathroom, and this guy was pissing next to me and he looks over at me pissing and starts singing \\'Under the Bridge\\' in some twisted key and I though \\'Okay. We\\'ve definitely made it now; a drunken guy is singing out of key one of our songs next to me in the urinal.\"\" - Anthony Kiedis News and Announcements\\nWelcome to the WikiProject Red Hot Chili Peppers\\' third Newsletter, dated Tuesday, January 1, 2008; happy new year! \\nRed Hot Chili Peppers discography was promoted to Featured List status.One Hot Minute was promoted to Good and Featured Article status.\\nFlea (musician) and Niandra Lades and Usually Just a T-Shirt\\'\\' were promoted to Good Article status  New members\\nSince our last newsletter was sent in October, several new contributors have joined the project:\\n, ,  and .\\n Editors\\n TC\\n You are receiving this newsletter because you have signed up for WikiProject Red Hot Chili Peppers. If you wish to stop receiving this newsletter, or want to receive it in a different form, please contact the publishers. This newsletter was delivered by the automated (talk)  .\"')\n",
            "(6, ', 1 October 2010 (UTC)\\n\\nMk30662n, I guess that I agree with Off2riorob. Wikipedia is more or a reader-oriented website. You might want to create separate sections so that those who are not interested in those sections may just ignore it. Someone can then shuffle the categories in terms of importance/relevance. Just my two cents.   23:35')\n",
            "(7, 'I see Hanover 4 times on the wiki article itself compared to only 2 times with the 2 Ns. Thatshows you that me and Hargreavesfan are right and all of you are wrong.')\n",
            "(8, \"Not all your reason's are valid, and you are extremely hated by most people for your continued abuse of admin abilities. Don't believe me, see above where they constantly ask you to stop using that god-dammed bot of yours but you didn't until you were blocked.\")\n",
            "(9, 'The section is useful info and should stay - you are clearly wrong.')\n"
          ],
          "name": "stdout"
        },
        {
          "output_type": "execute_result",
          "data": {
            "text/plain": [
              "[[('stick', 'FAC')],\n",
              " [],\n",
              " [],\n",
              " [('pedophilia onwiki', 'ORG'), ('first', 'ORDINAL')],\n",
              " [('the Vast Edit Wars', 'LAW')],\n",
              " [('WikiProject', 'ORG'),\n",
              "  ('Chili', 'GPE'),\n",
              "  ('January 2008', 'DATE'),\n",
              "  ('2', 'CARDINAL'),\n",
              "  ('1', 'CARDINAL'),\n",
              "  (\"'Under the Bridge'\", 'WORK_OF_ART'),\n",
              "  ('Anthony Kiedis', 'PERSON'),\n",
              "  ('WikiProject', 'ORG'),\n",
              "  ('Newsletter', 'PRODUCT'),\n",
              "  ('Tuesday, January 1, 2008', 'DATE'),\n",
              "  ('Red Hot', 'PERSON'),\n",
              "  ('Chili', 'GPE'),\n",
              "  ('One', 'CARDINAL'),\n",
              "  ('Hot Minute', 'PERSON'),\n",
              "  ('Good and Featured', 'ORG'),\n",
              "  ('Niandra Lades and Usually', 'ORG'),\n",
              "  ('October', 'DATE'),\n",
              "  ('WikiProject', 'ORG')],\n",
              " [('1 October 2010', 'DATE'),\n",
              "  ('Off2riorob', 'ORG'),\n",
              "  ('two cents', 'MONEY'),\n",
              "  ('23:35', 'TIME')],\n",
              " [('Hanover 4', 'ORG'), ('only 2', 'CARDINAL'), ('Hargreavesfan', 'NORP')],\n",
              " [],\n",
              " []]"
            ]
          },
          "metadata": {
            "tags": []
          },
          "execution_count": 88
        }
      ]
    },
    {
      "cell_type": "code",
      "metadata": {
        "colab": {
          "base_uri": "https://localhost:8080/"
        },
        "id": "hSMP1T08EohF",
        "outputId": "56e67e55-6485-4e59-e5e4-77eb04b764d2"
      },
      "source": [
        "for text in enumerate(controversial_text):\n",
        "  print(text)\n",
        "\n",
        "controversial_ner_list = []\n",
        "for text in controversial_text:\n",
        "  word_tag_list = []\n",
        "  for e in nlp(text).ents:\n",
        "    word_tag_list.append((e.text, e.label_))\n",
        "  controversial_ner_list.append(word_tag_list)\n",
        "\n",
        "controversial_ner_list"
      ],
      "execution_count": null,
      "outputs": [
        {
          "output_type": "stream",
          "text": [
            "(0, 'stupid prostitutes THANK YOU!')\n",
            "(1, '\"\\n\\n Oh and as far as \"\"not in line at all with how things are done\"\", that\\'s pure horse shit and you know it. Disambiguation pages are a dime a dozen, and since you are so hell-bent on insisting that folklore and fiction are completely separate, we might as well turn Vampire into a disambig page and let you have your own little playground to fuck up. \"')\n",
            "(2, \"(UTC)\\nOne of them reminded me of Paris Hilton +20 IQ pointsno insult to the latter, I'm still wondering if it was her shtick to play the dumb blond. The other reminds me of Madonna. Both have big titsand that ain't particularly sexist as it's referred to in the show. As for Huffington, she's a very intelligent woman who got a very handsome divorce settlement, before leaving the GOP.24.36.54.238  00:25, 4 June 2015\")\n",
            "(3, 'How about you learn how to read and write during that time Jamie? Continue or continued you dumbass.\\n\\nSecond of all you ruined what I wrote you idiot')\n",
            "(4, 'A jew going around wikipedia editing against Arabs everywhere, FUCK YOU!')\n",
            "(5, 'Do I know you? \\n\\nBeCauSe You aRe a FGGT!\\n Do I know you? \\n\\nBeCauSe You aRe a FGGT!\\n Do I know you? \\n\\nBeCauSe You aRe a FGGT!\\n Do I know you? \\n\\nBeCauSe You aRe a FGGT!\\n Do I know you? \\n\\nBeCauSe You aRe a FGGT!\\n Do I know you? \\n\\nBeCauSe You aRe a FGGT!\\n Do I know you? \\n\\nBeCauSe You aRe a FGGT!\\n Do I know you? \\n\\nBeCauSe You aRe a FGGT!\\n Do I know you? \\n\\nBeCauSe You aRe a FGGT!\\n Do I know you? \\n\\nBeCauSe You aRe a FGGT!\\n Do I know you? \\n\\nBeCauSe You aRe a FGGT!\\n Do I know you? \\n\\nBeCauSe You aRe a FGGT!\\n Do I know you? \\n\\nBeCauSe You aRe a FGGT!\\n Do I know you? \\n\\nBeCauSe You aRe a FGGT!\\n Do I know you? \\n\\nBeCauSe You aRe a FGGT!\\n Do I know you? \\n\\nBeCauSe You aRe a FGGT!\\n Do I know you? \\n\\nBeCauSe You aRe a FGGT!\\n Do I know you? \\n\\nBeCauSe You aRe a FGGT!\\n Do I know you? \\n\\nBeCauSe You aRe a FGGT!\\n Do I know you? \\n\\nBeCauSe You aRe a FGGT!\\n Do I know you? \\n\\nBeCauSe You aRe a FGGT!\\n Do I know you? \\n\\nBeCauSe You aRe a FGGT!\\n Do I know you? \\n\\nBeCauSe You aRe a FGGT!\\n Do I know you? \\n\\nBeCauSe You aRe a FGGT!\\n Do I know you? \\n\\nBeCauSe You aRe a FGGT!\\n Do I know you? \\n\\nBeCauSe You aRe a FGGT!\\n Do I know you? \\n\\nBeCauSe You aRe a FGGT!\\n Do I know you? \\n\\nBeCauSe You aRe a FGGT!')\n",
            "(6, 'MY PAGE 3234434aAa \\n\\nYour just a mean OLD BULLSHITTING fart...as you would put it')\n",
            "(7, 'GO AWAY.\\nRacists not wanted.')\n",
            "(8, \"Screw off, arsehole. 'Embezzlement' is a highly misleading word in this context.\")\n",
            "(9, \"My Edits \\n\\nQuit fucking with my edits you stupid Awbern shit eatin' sonofabitch!\")\n"
          ],
          "name": "stdout"
        },
        {
          "output_type": "execute_result",
          "data": {
            "text/plain": [
              "[[],\n",
              " [('dozen', 'CARDINAL')],\n",
              " [('One', 'CARDINAL'),\n",
              "  ('Paris Hilton +20', 'ORG'),\n",
              "  ('Madonna', 'PERSON'),\n",
              "  ('Huffington', 'PERSON'),\n",
              "  ('00:25', 'TIME')],\n",
              " [('Jamie', 'PERSON'), ('Second', 'ORDINAL')],\n",
              " [('Arabs', 'NORP'), ('FUCK', 'ORG')],\n",
              " [],\n",
              " [('3234434aAa', 'CARDINAL')],\n",
              " [],\n",
              " [],\n",
              " []]"
            ]
          },
          "metadata": {
            "tags": []
          },
          "execution_count": 89
        }
      ]
    },
    {
      "cell_type": "code",
      "metadata": {
        "id": "P85kY-BHFmDw"
      },
      "source": [
        "non_controversial = train_data[train_data['contro'] == 0][['comment_text']].head(500)\n",
        "controversial = train_data[train_data['contro'] == 1][['comment_text']].head(500)"
      ],
      "execution_count": null,
      "outputs": []
    },
    {
      "cell_type": "code",
      "metadata": {
        "id": "aVSVBD14HPL3"
      },
      "source": [
        "def get_named_entities(text):\n",
        "  return [e.label_ for e in nlp(text).ents]\n",
        "\n",
        "non_controversial['named_entities'] = non_controversial['comment_text'].apply(lambda text: get_named_entities(text))\n",
        "controversial['named_entities'] = controversial['comment_text'].apply(lambda text: get_named_entities(text))"
      ],
      "execution_count": null,
      "outputs": []
    },
    {
      "cell_type": "code",
      "metadata": {
        "id": "dwzBA9UzI8_N"
      },
      "source": [
        "nc_entities = non_controversial['named_entities'].tolist()\n",
        "c_entities = controversial['named_entities'].tolist()\n",
        "\n",
        "from collections import defaultdict\n",
        "\n",
        "nc_entities_dist = defaultdict( int )\n",
        "c_entities_dist = defaultdict( int )\n",
        "\n",
        "for l in nc_entities:\n",
        "  for entity in l:\n",
        "    nc_entities_dist[entity] += 1\n",
        "\n",
        "for l in c_entities:\n",
        "  for entity in l:\n",
        "    c_entities_dist[entity] += 1\n",
        "\n",
        "nc_entities_dist = dict(nc_entities_dist)\n",
        "c_entities_dist = dict(c_entities_dist)"
      ],
      "execution_count": null,
      "outputs": []
    },
    {
      "cell_type": "code",
      "metadata": {
        "id": "V0X8arH8LlkN"
      },
      "source": [
        "import seaborn as sns\n",
        "import matplotlib.pyplot as plt"
      ],
      "execution_count": null,
      "outputs": []
    },
    {
      "cell_type": "code",
      "metadata": {
        "colab": {
          "base_uri": "https://localhost:8080/",
          "height": 532
        },
        "id": "ViwfPmceKD-v",
        "outputId": "69d5a34a-8047-408f-d034-90f819622aff"
      },
      "source": [
        "nc_entity_names = list(nc_entities_dist.keys())\n",
        "nc_entity_freqs = [float(nc_entities_dist[e]) for e in nc_entity_names]\n",
        "plt.figure(figsize=(20, 8))\n",
        "plt.title('Distribution of Named Entities for Non-Controversial Text')\n",
        "plt.xlabel('Named Entity')\n",
        "plt.ylabel('Frequency in 500 Comments')\n",
        "sns.barplot(x=nc_entity_names, y=nc_entity_freqs)"
      ],
      "execution_count": null,
      "outputs": [
        {
          "output_type": "execute_result",
          "data": {
            "text/plain": [
              "<matplotlib.axes._subplots.AxesSubplot at 0x7f6eca884810>"
            ]
          },
          "metadata": {
            "tags": []
          },
          "execution_count": 94
        },
        {
          "output_type": "display_data",
          "data": {
            "image/png": "[encoded data removed]",
            "text/plain": [
              "<Figure size 1440x576 with 1 Axes>"
            ]
          },
          "metadata": {
            "tags": [],
            "needs_background": "light"
          }
        }
      ]
    },
    {
      "cell_type": "code",
      "metadata": {
        "colab": {
          "base_uri": "https://localhost:8080/",
          "height": 532
        },
        "id": "ME1WiLRIM_yS",
        "outputId": "1fce46e2-020a-4069-b252-dff29a44bc12"
      },
      "source": [
        "c_entity_names = list(c_entities_dist.keys())\n",
        "c_entity_freqs = [float(c_entities_dist[e]) for e in c_entity_names]\n",
        "plt.figure(figsize=(20, 8))\n",
        "plt.title('Distribution of Named Entities for Controversial Text')\n",
        "plt.xlabel('Named Entity')\n",
        "plt.ylabel('Frequency in 500 Comments')\n",
        "sns.barplot(x=c_entity_names, y=c_entity_freqs)"
      ],
      "execution_count": null,
      "outputs": [
        {
          "output_type": "execute_result",
          "data": {
            "text/plain": [
              "<matplotlib.axes._subplots.AxesSubplot at 0x7f6ec2563290>"
            ]
          },
          "metadata": {
            "tags": []
          },
          "execution_count": 95
        },
        {
          "output_type": "display_data",
          "data": {
            "image/png": "[encoded data removed]",
            "text/plain": [
              "<Figure size 1440x576 with 1 Axes>"
            ]
          },
          "metadata": {
            "tags": [],
            "needs_background": "light"
          }
        }
      ]
    },
    {
      "cell_type": "code",
      "metadata": {
        "id": "12mjTOmYPgBR"
      },
      "source": [
        "# top 10 words in controversial versus non-controversial text\n",
        "non_controversial_comments = train_data[train_data['contro'] == 0][['comment_text']].head(500)['comment_text'].tolist()\n",
        "controversial_comments = train_data[train_data['contro'] == 1][['comment_text']].head(500)['comment_text'].tolist()"
      ],
      "execution_count": null,
      "outputs": []
    },
    {
      "cell_type": "code",
      "metadata": {
        "id": "z_EP74rAPxv_"
      },
      "source": [
        "nc_dict = {}\n",
        "c_dict = {}\n",
        "\n",
        "for comment in non_controversial_comments:\n",
        "  for word in comment.split(' '):\n",
        "    if word not in nc_dict:\n",
        "      nc_dict.update({word: 1})\n",
        "    else:\n",
        "      nc_dict.update({word: nc_dict.get(word) + 1})\n",
        "\n",
        "for comment in controversial_comments:\n",
        "  for word in comment.split(' '):\n",
        "    if word not in c_dict:\n",
        "      c_dict.update({word: 1})\n",
        "    else:\n",
        "      c_dict.update({word: c_dict.get(word) + 1})"
      ],
      "execution_count": null,
      "outputs": []
    },
    {
      "cell_type": "code",
      "metadata": {
        "id": "Sf776BNLQfJ5"
      },
      "source": [
        "# remove stopwords and some manual cleaning\n",
        "filtered_nc = {k:v for k,v in nc_dict.items() if k not in set(stopwords.words('english')) and k not in ['', '\"', 'The', 'If', '-', 'I', 'like', 'You', 'A', 'IS'] and v >= 58}\n",
        "filtered_nc = {k:v for k,v in sorted(filtered_nc.items(), key=lambda item: item[1], reverse=True)}\n",
        "\n",
        "filtered_c = {k:v for k,v in c_dict.items() if k not in set(stopwords.words('english')) and k not in ['', 'I', 'like', 'You', 'A', 'IS', 'is.', 'Do'] and v >= 41}\n",
        "filtered_c = {k:v for k,v in sorted(filtered_c.items(), key=lambda item: item[1], reverse=True)}"
      ],
      "execution_count": null,
      "outputs": []
    },
    {
      "cell_type": "code",
      "metadata": {
        "colab": {
          "base_uri": "https://localhost:8080/",
          "height": 531
        },
        "id": "qZkSe20eTd1d",
        "outputId": "13f8f9b4-676c-4471-df04-1187b8155c9f"
      },
      "source": [
        "nc_top_words = list(filtered_nc.keys())\n",
        "nc_word_freqs = [float(filtered_nc[e]) for e in filtered_nc]\n",
        "plt.figure(figsize=(20, 8))\n",
        "plt.title('Distribution of Top 10 Most Common Words for Non-Controversial Text')\n",
        "plt.xlabel('Word')\n",
        "plt.ylabel('Frequency in 500 Comments')\n",
        "sns.barplot(x=nc_top_words, y=nc_word_freqs)"
      ],
      "execution_count": null,
      "outputs": [
        {
          "output_type": "execute_result",
          "data": {
            "text/plain": [
              "<matplotlib.axes._subplots.AxesSubplot at 0x7f6ec111a150>"
            ]
          },
          "metadata": {
            "tags": []
          },
          "execution_count": 117
        },
        {
          "output_type": "display_data",
          "data": {
            "image/png": "[encoded data removed]",
            "text/plain": [
              "<Figure size 1440x576 with 1 Axes>"
            ]
          },
          "metadata": {
            "tags": [],
            "needs_background": "light"
          }
        }
      ]
    },
    {
      "cell_type": "code",
      "metadata": {
        "colab": {
          "base_uri": "https://localhost:8080/",
          "height": 531
        },
        "id": "WIZ5mgzeSPar",
        "outputId": "8f400ae8-06f0-4b71-c219-ebce72609b9a"
      },
      "source": [
        "c_top_words = list(filtered_c.keys())\n",
        "c_word_freqs = [float(filtered_c[e]) for e in filtered_c]\n",
        "plt.figure(figsize=(20, 8))\n",
        "plt.title('Distribution of Top 10 Most Common Words for Controversial Text')\n",
        "plt.xlabel('Word')\n",
        "plt.ylabel('Frequency in 500 Comments')\n",
        "sns.barplot(x=c_top_words, y=c_word_freqs)"
      ],
      "execution_count": null,
      "outputs": [
        {
          "output_type": "execute_result",
          "data": {
            "text/plain": [
              "<matplotlib.axes._subplots.AxesSubplot at 0x7f6ec271b090>"
            ]
          },
          "metadata": {
            "tags": []
          },
          "execution_count": 115
        },
        {
          "output_type": "display_data",
          "data": {
            "image/png": "[encoded data removed]",
            "text/plain": [
              "<Figure size 1440x576 with 1 Axes>"
            ]
          },
          "metadata": {
            "tags": [],
            "needs_background": "light"
          }
        }
      ]
    }
  ]
}